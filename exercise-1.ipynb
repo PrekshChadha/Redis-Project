{
 "cells": [
  {
   "cell_type": "code",
   "execution_count": null,
   "metadata": {},
   "outputs": [],
   "source": [
    "import redis\n",
    "import time\n",
    "\n",
    "SOURCE_HOST = \"172.16.22.21\"\n",
    "SOURCE_PORT = 16887    \n",
    "\n",
    "REPLICA_HOST = \"172.16.22.23\"\n",
    "REPLICA_PORT = 18204  "
   ]
  },
  {
   "cell_type": "code",
   "execution_count": null,
   "metadata": {},
   "outputs": [],
   "source": [
    "# Connect to Source DB:\n",
    "source_db = redis.Redis(host=SOURCE_HOST, port=SOURCE_PORT, decode_responses=True)"
   ]
  },
  {
   "cell_type": "code",
   "execution_count": null,
   "metadata": {},
   "outputs": [],
   "source": [
    "# Inserting 100 values:\n",
    "for i in range(1, 101):\n",
    "    key = f\"num:{i}\"\n",
    "    source_db.set(key, i)\n",
    "\n",
    "print(\"Inserted successfully.\")"
   ]
  },
  {
   "cell_type": "code",
   "execution_count": null,
   "metadata": {},
   "outputs": [],
   "source": [
    "# Adding delay for changes to be replicated to replica-db\n",
    "WAIT_TIME = 3   # seconds\n",
    "time.sleep(WAIT_TIME)"
   ]
  },
  {
   "cell_type": "code",
   "execution_count": null,
   "metadata": {},
   "outputs": [],
   "source": [
    "# Connect to Replica DB:\n",
    "replica_db = redis.Redis(host=REPLICA_HOST, port=REPLICA_PORT, decode_responses=True)"
   ]
  },
  {
   "cell_type": "code",
   "execution_count": null,
   "metadata": {},
   "outputs": [],
   "source": [
    "# Reading values in reverse order:\n",
    "print(\"Reading values in reverse order from replica-db:\")\n",
    "for i in range(100, 0, -1):\n",
    "    key = f\"num:{i}\"\n",
    "    value = replica_db.get(key)\n",
    "    print(value)"
   ]
  }
 ],
 "metadata": {
  "kernelspec": {
   "display_name": "Python 3.9.2 64-bit",
   "language": "python",
   "name": "python3"
  },
  "language_info": {
   "codemirror_mode": {
    "name": "ipython",
    "version": 3
   },
   "file_extension": ".py",
   "mimetype": "text/x-python",
   "name": "python",
   "nbconvert_exporter": "python",
   "pygments_lexer": "ipython3",
   "version": "3.9.2"
  },
  "orig_nbformat": 4,
  "vscode": {
   "interpreter": {
    "hash": "31f2aee4e71d21fbe5cf8b01ff0e069b9275f58929596ceb00d14d90e3e16cd6"
   }
  }
 },
 "nbformat": 4,
 "nbformat_minor": 2
}
